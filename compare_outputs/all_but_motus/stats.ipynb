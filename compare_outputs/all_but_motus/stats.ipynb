{
 "cells": [
  {
   "cell_type": "code",
   "execution_count": 1,
   "metadata": {},
   "outputs": [],
   "source": [
    "import pandas as pd"
   ]
  },
  {
   "cell_type": "code",
   "execution_count": 3,
   "metadata": {},
   "outputs": [],
   "source": [
    "all=pd.read_csv(\n",
    "    \"/shared/projects/mudis4ls_is4_benchmark/test_results/compare_outputs/all_but_motus/all_but_motus.tsv\", \n",
    "    sep=\"\\t\"\n",
    "    )"
   ]
  },
  {
   "cell_type": "code",
   "execution_count": 4,
   "metadata": {},
   "outputs": [
    {
     "data": {
      "text/html": [
       "<div>\n",
       "<style scoped>\n",
       "    .dataframe tbody tr th:only-of-type {\n",
       "        vertical-align: middle;\n",
       "    }\n",
       "\n",
       "    .dataframe tbody tr th {\n",
       "        vertical-align: top;\n",
       "    }\n",
       "\n",
       "    .dataframe thead th {\n",
       "        text-align: right;\n",
       "    }\n",
       "</style>\n",
       "<table border=\"1\" class=\"dataframe\">\n",
       "  <thead>\n",
       "    <tr style=\"text-align: right;\">\n",
       "      <th></th>\n",
       "      <th>abundance_meteor</th>\n",
       "      <th>gtdb_r220_classification</th>\n",
       "      <th>species</th>\n",
       "      <th>abundance_sylph</th>\n",
       "      <th>kraken_fraction_total_reads</th>\n",
       "      <th>abundance_metaphlan</th>\n",
       "    </tr>\n",
       "  </thead>\n",
       "  <tbody>\n",
       "    <tr>\n",
       "      <th>0</th>\n",
       "      <td>NaN</td>\n",
       "      <td>d__Bacteria</td>\n",
       "      <td>NaN</td>\n",
       "      <td>100.0</td>\n",
       "      <td>0.00006</td>\n",
       "      <td>100.0</td>\n",
       "    </tr>\n",
       "    <tr>\n",
       "      <th>1</th>\n",
       "      <td>NaN</td>\n",
       "      <td>d__Bacteria</td>\n",
       "      <td>NaN</td>\n",
       "      <td>100.0</td>\n",
       "      <td>0.00082</td>\n",
       "      <td>100.0</td>\n",
       "    </tr>\n",
       "    <tr>\n",
       "      <th>2</th>\n",
       "      <td>NaN</td>\n",
       "      <td>d__Bacteria</td>\n",
       "      <td>NaN</td>\n",
       "      <td>100.0</td>\n",
       "      <td>0.00021</td>\n",
       "      <td>100.0</td>\n",
       "    </tr>\n",
       "    <tr>\n",
       "      <th>3</th>\n",
       "      <td>NaN</td>\n",
       "      <td>d__Bacteria</td>\n",
       "      <td>NaN</td>\n",
       "      <td>100.0</td>\n",
       "      <td>0.00002</td>\n",
       "      <td>100.0</td>\n",
       "    </tr>\n",
       "    <tr>\n",
       "      <th>4</th>\n",
       "      <td>NaN</td>\n",
       "      <td>d__Bacteria</td>\n",
       "      <td>NaN</td>\n",
       "      <td>100.0</td>\n",
       "      <td>0.00002</td>\n",
       "      <td>100.0</td>\n",
       "    </tr>\n",
       "    <tr>\n",
       "      <th>...</th>\n",
       "      <td>...</td>\n",
       "      <td>...</td>\n",
       "      <td>...</td>\n",
       "      <td>...</td>\n",
       "      <td>...</td>\n",
       "      <td>...</td>\n",
       "    </tr>\n",
       "    <tr>\n",
       "      <th>3214</th>\n",
       "      <td>NaN</td>\n",
       "      <td>NaN</td>\n",
       "      <td>Xanthomonas arboricola</td>\n",
       "      <td>NaN</td>\n",
       "      <td>0.00002</td>\n",
       "      <td>NaN</td>\n",
       "    </tr>\n",
       "    <tr>\n",
       "      <th>3215</th>\n",
       "      <td>NaN</td>\n",
       "      <td>NaN</td>\n",
       "      <td>Xanthomonas cannabis</td>\n",
       "      <td>NaN</td>\n",
       "      <td>0.00002</td>\n",
       "      <td>NaN</td>\n",
       "    </tr>\n",
       "    <tr>\n",
       "      <th>3216</th>\n",
       "      <td>NaN</td>\n",
       "      <td>NaN</td>\n",
       "      <td>Xiamenia xianingshaonis</td>\n",
       "      <td>NaN</td>\n",
       "      <td>0.00002</td>\n",
       "      <td>NaN</td>\n",
       "    </tr>\n",
       "    <tr>\n",
       "      <th>3217</th>\n",
       "      <td>NaN</td>\n",
       "      <td>NaN</td>\n",
       "      <td>Xylophilus sp. GOD-11R</td>\n",
       "      <td>NaN</td>\n",
       "      <td>0.00002</td>\n",
       "      <td>NaN</td>\n",
       "    </tr>\n",
       "    <tr>\n",
       "      <th>3218</th>\n",
       "      <td>NaN</td>\n",
       "      <td>NaN</td>\n",
       "      <td>Yoonia vestfoldensis</td>\n",
       "      <td>NaN</td>\n",
       "      <td>0.00002</td>\n",
       "      <td>NaN</td>\n",
       "    </tr>\n",
       "  </tbody>\n",
       "</table>\n",
       "<p>3219 rows × 6 columns</p>\n",
       "</div>"
      ],
      "text/plain": [
       "      abundance_meteor gtdb_r220_classification                  species  \\\n",
       "0                  NaN              d__Bacteria                      NaN   \n",
       "1                  NaN              d__Bacteria                      NaN   \n",
       "2                  NaN              d__Bacteria                      NaN   \n",
       "3                  NaN              d__Bacteria                      NaN   \n",
       "4                  NaN              d__Bacteria                      NaN   \n",
       "...                ...                      ...                      ...   \n",
       "3214               NaN                      NaN   Xanthomonas arboricola   \n",
       "3215               NaN                      NaN     Xanthomonas cannabis   \n",
       "3216               NaN                      NaN  Xiamenia xianingshaonis   \n",
       "3217               NaN                      NaN   Xylophilus sp. GOD-11R   \n",
       "3218               NaN                      NaN     Yoonia vestfoldensis   \n",
       "\n",
       "      abundance_sylph  kraken_fraction_total_reads  abundance_metaphlan  \n",
       "0               100.0                      0.00006                100.0  \n",
       "1               100.0                      0.00082                100.0  \n",
       "2               100.0                      0.00021                100.0  \n",
       "3               100.0                      0.00002                100.0  \n",
       "4               100.0                      0.00002                100.0  \n",
       "...               ...                          ...                  ...  \n",
       "3214              NaN                      0.00002                  NaN  \n",
       "3215              NaN                      0.00002                  NaN  \n",
       "3216              NaN                      0.00002                  NaN  \n",
       "3217              NaN                      0.00002                  NaN  \n",
       "3218              NaN                      0.00002                  NaN  \n",
       "\n",
       "[3219 rows x 6 columns]"
      ]
     },
     "execution_count": 4,
     "metadata": {},
     "output_type": "execute_result"
    }
   ],
   "source": [
    "all"
   ]
  },
  {
   "cell_type": "code",
   "execution_count": 5,
   "metadata": {},
   "outputs": [
    {
     "name": "stdout",
     "output_type": "stream",
     "text": [
      "0.0002081139896373057\n"
     ]
    }
   ],
   "source": [
    "# Filtrer les lignes où les trois colonnes sont NaN\n",
    "filtered_df = all[all[[\"abundance_meteor\", \"abundance_sylph\", \"abundance_metaphlan\"]].isna().all(axis=1)]\n",
    "\n",
    "# Calculer la moyenne de la colonne kraken_fraction_total_reads\n",
    "mean_value = filtered_df[\"kraken_fraction_total_reads\"].mean()\n",
    "\n",
    "print(mean_value)\n"
   ]
  },
  {
   "cell_type": "code",
   "execution_count": 6,
   "metadata": {},
   "outputs": [
    {
     "name": "stdout",
     "output_type": "stream",
     "text": [
      "513\n"
     ]
    }
   ],
   "source": [
    "# Compter les lignes où abundance_sylph et abundance_metaphlan ne sont pas NaN\n",
    "count = all[all[[\"abundance_sylph\", \"abundance_metaphlan\"]].notna().all(axis=1)].shape[0]\n",
    "\n",
    "print(count)\n"
   ]
  }
 ],
 "metadata": {
  "kernelspec": {
   "display_name": "Python 3 (ipykernel)",
   "language": "python",
   "name": "python3"
  },
  "language_info": {
   "codemirror_mode": {
    "name": "ipython",
    "version": 3
   },
   "file_extension": ".py",
   "mimetype": "text/x-python",
   "name": "python",
   "nbconvert_exporter": "python",
   "pygments_lexer": "ipython3",
   "version": "3.13.1"
  }
 },
 "nbformat": 4,
 "nbformat_minor": 2
}
