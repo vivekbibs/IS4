{
 "cells": [
  {
   "cell_type": "code",
   "execution_count": 4,
   "metadata": {},
   "outputs": [],
   "source": [
    "import pandas as pd\n",
    "\n",
    "# Charger les fichiers GTDB 207 et 220\n",
    "gtdb_207 = pd.read_csv(\n",
    "    \"/shared/projects/mudis4ls_is4_benchmark/gtdb/bac120_taxonomy_r207.tsv\", sep=\"\\t\", header=None, names=[\"genome_id\", \"taxonomy_207\"],\n",
    "    )\n",
    "gtdb_220 = pd.read_csv(\n",
    "    \"/shared/projects/mudis4ls_is4_benchmark/gtdb/bac120_taxonomy.tsv\", sep=\"\\t\", header=None, names=[\"genome_id\", \"taxonomy_220\"]\n",
    "    )\n",
    "\n",
    "\n"
   ]
  },
  {
   "cell_type": "code",
   "execution_count": 5,
   "metadata": {},
   "outputs": [
    {
     "data": {
      "text/html": [
       "<div>\n",
       "<style scoped>\n",
       "    .dataframe tbody tr th:only-of-type {\n",
       "        vertical-align: middle;\n",
       "    }\n",
       "\n",
       "    .dataframe tbody tr th {\n",
       "        vertical-align: top;\n",
       "    }\n",
       "\n",
       "    .dataframe thead th {\n",
       "        text-align: right;\n",
       "    }\n",
       "</style>\n",
       "<table border=\"1\" class=\"dataframe\">\n",
       "  <thead>\n",
       "    <tr style=\"text-align: right;\">\n",
       "      <th></th>\n",
       "      <th>genome_id</th>\n",
       "      <th>taxonomy_207</th>\n",
       "    </tr>\n",
       "  </thead>\n",
       "  <tbody>\n",
       "    <tr>\n",
       "      <th>0</th>\n",
       "      <td>RS_GCF_000566285.1</td>\n",
       "      <td>d__Bacteria;p__Proteobacteria;c__Gammaproteoba...</td>\n",
       "    </tr>\n",
       "    <tr>\n",
       "      <th>1</th>\n",
       "      <td>RS_GCF_003460375.1</td>\n",
       "      <td>d__Bacteria;p__Proteobacteria;c__Gammaproteoba...</td>\n",
       "    </tr>\n",
       "    <tr>\n",
       "      <th>2</th>\n",
       "      <td>RS_GCF_008388435.1</td>\n",
       "      <td>d__Bacteria;p__Proteobacteria;c__Gammaproteoba...</td>\n",
       "    </tr>\n",
       "    <tr>\n",
       "      <th>3</th>\n",
       "      <td>RS_GCF_003000855.1</td>\n",
       "      <td>d__Bacteria;p__Proteobacteria;c__Gammaproteoba...</td>\n",
       "    </tr>\n",
       "    <tr>\n",
       "      <th>4</th>\n",
       "      <td>GB_GCA_904810065.1</td>\n",
       "      <td>d__Bacteria;p__Proteobacteria;c__Gammaproteoba...</td>\n",
       "    </tr>\n",
       "  </tbody>\n",
       "</table>\n",
       "</div>"
      ],
      "text/plain": [
       "            genome_id                                       taxonomy_207\n",
       "0  RS_GCF_000566285.1  d__Bacteria;p__Proteobacteria;c__Gammaproteoba...\n",
       "1  RS_GCF_003460375.1  d__Bacteria;p__Proteobacteria;c__Gammaproteoba...\n",
       "2  RS_GCF_008388435.1  d__Bacteria;p__Proteobacteria;c__Gammaproteoba...\n",
       "3  RS_GCF_003000855.1  d__Bacteria;p__Proteobacteria;c__Gammaproteoba...\n",
       "4  GB_GCA_904810065.1  d__Bacteria;p__Proteobacteria;c__Gammaproteoba..."
      ]
     },
     "execution_count": 5,
     "metadata": {},
     "output_type": "execute_result"
    }
   ],
   "source": [
    "gtdb_207.head()"
   ]
  },
  {
   "cell_type": "code",
   "execution_count": 6,
   "metadata": {},
   "outputs": [
    {
     "name": "stdout",
     "output_type": "stream",
     "text": [
      "✅ Fichier de correspondance GTDB 207 → 220 créé.\n"
     ]
    }
   ],
   "source": [
    "\n",
    "# Fusionner les deux fichiers sur genome_id pour obtenir la correspondance\n",
    "gtdb_mapping = gtdb_207.merge(gtdb_220, on=\"genome_id\", how=\"inner\")\n",
    "\n",
    "# Ne garder que les colonnes utiles\n",
    "gtdb_mapping = gtdb_mapping[[\"taxonomy_207\", \"taxonomy_220\"]]\n",
    "\n",
    "# Sauvegarder le fichier de correspondance\n",
    "gtdb_mapping.to_csv(\"/shared/projects/mudis4ls_is4_benchmark/gtdb/gtdb_taxonomy_207_to_220.tsv\", sep=\"\\t\", index=False)\n",
    "print(\"✅ Fichier de correspondance GTDB 207 → 220 créé.\")"
   ]
  }
 ],
 "metadata": {
  "kernelspec": {
   "display_name": "Python 3 (ipykernel)",
   "language": "python",
   "name": "python3"
  },
  "language_info": {
   "codemirror_mode": {
    "name": "ipython",
    "version": 3
   },
   "file_extension": ".py",
   "mimetype": "text/x-python",
   "name": "python",
   "nbconvert_exporter": "python",
   "pygments_lexer": "ipython3",
   "version": "3.13.1"
  }
 },
 "nbformat": 4,
 "nbformat_minor": 2
}
