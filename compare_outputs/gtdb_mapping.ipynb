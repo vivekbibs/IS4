{
 "cells": [
  {
   "cell_type": "code",
   "execution_count": null,
   "metadata": {},
   "outputs": [],
   "source": [
    "import pandas as pd\n",
    "\n",
    "# Charger les fichiers GTDB 207 et 220\n",
    "gtdb_207 = pd.read_csv(\n",
    "    \"/shared/projects/mudis4ls_is4_benchmark/gtdb/bac120_taxonomy_r207.tsv\", sep=\"\\t\", header=None, names=[\"genome_id\", \"taxonomy_207\"]\n",
    "    )\n",
    "gtdb_220 = pd.read_csv(\n",
    "    \"/shared/projects/mudis4ls_is4_benchmark/gtdb/bac120_taxonomy.tsv\", sep=\"\\t\", header=None, names=[\"genome_id\", \"taxonomy_220\"]\n",
    "    )\n",
    "\n",
    "# Fusionner les deux fichiers sur genome_id pour obtenir la correspondance\n",
    "gtdb_mapping = gtdb_207.merge(gtdb_220, on=\"genome_id\", how=\"inner\")\n",
    "\n",
    "# Ne garder que les colonnes utiles\n",
    "gtdb_mapping = gtdb_mapping[[\"taxonomy_207\", \"taxonomy_220\"]]\n",
    "\n",
    "# Sauvegarder le fichier de correspondance\n",
    "gtdb_mapping.to_csv(\"gtdb_taxonomy_207_to_220.tsv\", sep=\"\\t\", index=False)\n",
    "print(\"✅ Fichier de correspondance GTDB 207 → 220 créé.\")\n"
   ]
  }
 ],
 "metadata": {
  "kernelspec": {
   "display_name": "Python 3 (ipykernel)",
   "language": "python",
   "name": "python3"
  }
 },
 "nbformat": 4,
 "nbformat_minor": 2
}
