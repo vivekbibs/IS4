{
 "cells": [
  {
   "cell_type": "code",
   "execution_count": 33,
   "metadata": {},
   "outputs": [],
   "source": [
    "import pandas as pd"
   ]
  },
  {
   "cell_type": "code",
   "execution_count": null,
   "metadata": {},
   "outputs": [],
   "source": [
    "# Fonction pour extraire le genre correct\n",
    "def extract_genus_species(species_name, known_genera):\n",
    "    words = species_name.split()\n",
    "    \n",
    "    # Cas où le premier mot est un genre connu\n",
    "    if words[0] in known_genera:\n",
    "        return words[0], \" \".join(words[1:])\n",
    "    \n",
    "    # Cas où un mot autre que \"uncultured\", \"phage\" est un genre connu\n",
    "    for i, word in enumerate(words):\n",
    "        if word in known_genera:\n",
    "            return word, \" \".join(words[i+1:])\n",
    "    \n",
    "    # Si aucun genre valide trouvé, on met NaN\n",
    "    return None, None\n",
    "\n",
    "# Appliquer la fonction pour extraire genus et species\n",
    "bracken_output[[\"genus\", \"species_corrected\"]] = bracken_output[\"species\"].apply(\n",
    "    lambda x: pd.Series(extract_genus_species(x, set(meteor_sylph[\"genus\"])))\n",
    ")\n",
    "\n",
    "# Supprimer les valeurs non assignées\n",
    "bracken_output = bracken_output.dropna(subset=[\"genus\"])\n",
    "\n",
    "# Merge avec meteor_sylph sur genus et species_corrected\n",
    "merged_df = bracken_output.merge(meteor_sylph, how=\"left\", left_on=[\"genus\", \"species_corrected\"], right_on=[\"genus\", \"species\"])\n"
   ]
  }
 ],
 "metadata": {
  "kernelspec": {
   "display_name": "Python 3 (ipykernel)",
   "language": "python",
   "name": "python3"
  },
  "language_info": {
   "codemirror_mode": {
    "name": "ipython",
    "version": 3
   },
   "file_extension": ".py",
   "mimetype": "text/x-python",
   "name": "python",
   "nbconvert_exporter": "python",
   "pygments_lexer": "ipython3",
   "version": "3.13.1"
  }
 },
 "nbformat": 4,
 "nbformat_minor": 2
}
