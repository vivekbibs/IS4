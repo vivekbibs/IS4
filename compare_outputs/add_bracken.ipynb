{
 "cells": [
  {
   "cell_type": "code",
   "execution_count": 33,
   "metadata": {},
   "outputs": [],
   "source": [
    "import pandas as pd"
   ]
  },
  {
   "cell_type": "code",
   "execution_count": null,
   "metadata": {},
   "outputs": [],
   "source": [
    "# Charger le fichier GTDB 220 (ajuste le chemin si nécessaire)\n",
    "gtdb_220 = pd.read_csv(\n",
    "    \"/shared/projects/mudis4ls_is4_benchmark/gtdb/bac120_taxonomy.tsv.xz\", sep=\"\\t\", header=None, names=[\"genome_id\", \"taxonomy\"]\n",
    "    )\n",
    "\n",
    "# Extraire les genres (niveau \"g__\")\n",
    "gtdb_220[\"genus\"] = gtdb_220[\"taxonomy\"].str.extract(r\";g__([^;]+)\")\n",
    "\n",
    "# Supprimer les NaN et créer un ensemble pour un accès rapide\n",
    "known_genera = set(gtdb_220[\"genus\"].dropna().unique())\n",
    "\n",
    "# Vérification : Afficher les 10 premiers genres\n",
    "print(list(known_genera)[:10])"
   ]
  },
  {
   "cell_type": "code",
   "execution_count": null,
   "metadata": {},
   "outputs": [],
   "source": [
    "def extract_genus_species(species_name):\n",
    "    words = species_name.split()\n",
    "    \n",
    "    # Cas où le premier mot est un genre valide\n",
    "    if words[0] in known_genera:\n",
    "        genus = words[0]\n",
    "        species = \" \".join(words[1:]) if len(words) > 1 else \"sp.\"\n",
    "    else:\n",
    "        genus = None  # Pas un genre connu → classer en inconnu\n",
    "        species = species_name  # Garder la classification entière\n",
    "    \n",
    "    return genus, species\n",
    "\n",
    "# Appliquer sur la colonne \"species\" du dataframe Bracken\n",
    "bracken_output[[\"genus\", \"species\"]] = bracken_output[\"species\"].apply(\n",
    "    lambda x: pd.Series(extract_genus_species(x))\n",
    ")\n"
   ]
  }
 ],
 "metadata": {
  "kernelspec": {
   "display_name": "Python 3 (ipykernel)",
   "language": "python",
   "name": "python3"
  },
  "language_info": {
   "codemirror_mode": {
    "name": "ipython",
    "version": 3
   },
   "file_extension": ".py",
   "mimetype": "text/x-python",
   "name": "python",
   "nbconvert_exporter": "python",
   "pygments_lexer": "ipython3",
   "version": "3.13.1"
  }
 },
 "nbformat": 4,
 "nbformat_minor": 2
}
