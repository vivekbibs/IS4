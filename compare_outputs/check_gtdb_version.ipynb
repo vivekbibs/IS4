{
 "cells": [
  {
   "cell_type": "code",
   "execution_count": 1,
   "metadata": {},
   "outputs": [
    {
     "ename": "UnpicklingError",
     "evalue": "pickle data was truncated",
     "output_type": "error",
     "traceback": [
      "\u001b[0;31m---------------------------------------------------------------------------\u001b[0m",
      "\u001b[0;31mUnpicklingError\u001b[0m                           Traceback (most recent call last)",
      "Cell \u001b[0;32mIn[1], line 6\u001b[0m\n\u001b[1;32m      3\u001b[0m db_path \u001b[38;5;241m=\u001b[39m \u001b[38;5;124m\"\u001b[39m\u001b[38;5;124m/shared/projects/mudis4ls_is4_benchmark/BDs/mpa_vJun23_CHOCOPhlAnSGB_202403.pkl\u001b[39m\u001b[38;5;124m\"\u001b[39m\n\u001b[1;32m      5\u001b[0m \u001b[38;5;28;01mwith\u001b[39;00m \u001b[38;5;28mopen\u001b[39m(db_path, \u001b[38;5;124m\"\u001b[39m\u001b[38;5;124mrb\u001b[39m\u001b[38;5;124m\"\u001b[39m) \u001b[38;5;28;01mas\u001b[39;00m f:\n\u001b[0;32m----> 6\u001b[0m     db_content \u001b[38;5;241m=\u001b[39m \u001b[43mpickle\u001b[49m\u001b[38;5;241;43m.\u001b[39;49m\u001b[43mload\u001b[49m\u001b[43m(\u001b[49m\u001b[43mf\u001b[49m\u001b[43m)\u001b[49m\n\u001b[1;32m      8\u001b[0m \u001b[38;5;66;03m# Vérifie s'il y a une info sur GTDB\u001b[39;00m\n\u001b[1;32m      9\u001b[0m \u001b[38;5;28mprint\u001b[39m(db_content\u001b[38;5;241m.\u001b[39mkeys())  \u001b[38;5;66;03m# Liste les clés du dictionnaire\u001b[39;00m\n",
      "\u001b[0;31mUnpicklingError\u001b[0m: pickle data was truncated"
     ]
    }
   ],
   "source": [
    "import pickle\n",
    "\n",
    "db_path = \"/shared/projects/mudis4ls_is4_benchmark/BDs/mpa_vJun23_CHOCOPhlAnSGB_202403.pkl\"\n",
    "\n",
    "with open(db_path, \"rb\") as f:\n",
    "    db_content = pickle.load(f)\n",
    "\n",
    "# Vérifie s'il y a une info sur GTDB\n",
    "print(db_content.keys())  # Liste les clés du dictionnaire\n",
    "if \"version\" in db_content:\n",
    "    print(\"Version GTDB:\", db_content[\"version\"])\n",
    "elif \"taxonomy\" in db_content:\n",
    "    print(\"Taxonomies trouvées:\", list(db_content[\"taxonomy\"].keys())[:10])  # Affiche quelques taxons\n"
   ]
  }
 ],
 "metadata": {
  "kernelspec": {
   "display_name": "Python 3 (ipykernel)",
   "language": "python",
   "name": "python3"
  },
  "language_info": {
   "codemirror_mode": {
    "name": "ipython",
    "version": 3
   },
   "file_extension": ".py",
   "mimetype": "text/x-python",
   "name": "python",
   "nbconvert_exporter": "python",
   "pygments_lexer": "ipython3",
   "version": "3.13.1"
  }
 },
 "nbformat": 4,
 "nbformat_minor": 2
}
