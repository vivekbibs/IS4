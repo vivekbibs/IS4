{
 "cells": [
  {
   "cell_type": "code",
   "execution_count": null,
   "metadata": {},
   "outputs": [
    {
     "name": "stdout",
     "output_type": "stream",
     "text": [
      "Searching for tools with the topic 'Microbiology' (EDAM ID: topic_3300) and requesting JSON format...\n"
     ]
    }
   ],
   "source": [
    "import requests\n",
    "import json\n",
    "\n",
    "# Base URL for the bio.tools API\n",
    "BASE_URL = \"https://bio.tools/api/tool\"\n",
    "\n",
    "# Parameters for the search: filtering by EDAM topic ID for \"Microbiology\"\n",
    "# AND explicitly requesting JSON format.\n",
    "params = {\n",
    "    \"topicID\": \"topic_3301\",  # EDAM ID for Microbiology\n",
    "    \"format\": \"json\"          # <--- THIS IS THE KEY ADDITION\n",
    "}\n",
    "\n",
    "# Pagination settings\n",
    "page_size = 100\n",
    "current_page = 1\n",
    "microbiology_tools_info = []\n",
    "\n",
    "print(f\"Searching for tools with the topic 'Microbiology' (EDAM ID: topic_3300) and requesting JSON format...\")\n"
   ]
  },
  {
   "cell_type": "code",
   "execution_count": 4,
   "metadata": {},
   "outputs": [
    {
     "name": "stdout",
     "output_type": "stream",
     "text": [
      "Fetching page 1...\n",
      "All pages retrieved.\n",
      "\n",
      "Total number of 'Microbiology' tools found: 50\n"
     ]
    }
   ],
   "source": [
    "\n",
    "while True:\n",
    "    print(f\"Fetching page {current_page}...\")\n",
    "    current_params = {**params, \"page\": current_page, \"page_size\": page_size}\n",
    "    response = requests.get(BASE_URL, params=current_params)\n",
    "\n",
    "    if response.status_code == 200:\n",
    "        data = response.json()\n",
    "        tools_on_page = data.get(\"list\", [])\n",
    "\n",
    "        if not tools_on_page:\n",
    "            print(\"No more tools to retrieve. Ending pagination.\")\n",
    "            break\n",
    "\n",
    "        # Extract only the 'biotoolsID' and 'name' for each tool\n",
    "        for tool in tools_on_page:\n",
    "            tool_id = tool.get('biotoolsID')\n",
    "            tool_name = tool.get('name')\n",
    "            if tool_id and tool_name: # Ensure both fields exist\n",
    "                microbiology_tools_info.append({'id': tool_id, 'name': tool_name})\n",
    "        \n",
    "        # Check if there are more pages\n",
    "        total_pages = data.get(\"total_pages\", 0)\n",
    "        if current_page >= total_pages:\n",
    "            print(\"All pages retrieved.\")\n",
    "            break\n",
    "        \n",
    "        current_page += 1\n",
    "    else:\n",
    "        print(f\"Error during request: {response.status_code}\")\n",
    "        print(response.text)\n",
    "        break\n",
    "\n",
    "print(f\"\\nTotal number of 'Microbiology' tools found: {len(microbiology_tools_info)}\")"
   ]
  },
  {
   "cell_type": "code",
   "execution_count": null,
   "metadata": {},
   "outputs": [
    {
     "name": "stdout",
     "output_type": "stream",
     "text": [
      "\n",
      "Extracted Tool IDs and Names:\n",
      "  - ID: volumetry_analysis, Name: Volumetry analysis (EUCAIM-SW-060_T-02-01-009)\n",
      "  - ID: deep_features_extraction, Name: Deep features extraction (EUCAIM-SW-058_T-02-01-007)\n",
      "  - ID: r1_and_t1_maps_extraction, Name: R1 and T1 maps extraction (EUCAIM-SW-057_T-02-01-006)\n",
      "  - ID: diffusion_maps_extraction, Name: Diffusion maps extraction (EUCAIM-SW-056_T-02-01-005)\n",
      "  - ID: r2_maps_extraction, Name: R2 maps extraction (EUCAIM-SW-055_T-02-01-004)\n",
      "  - ID: perfusion_maps_extraction, Name: Perfusion maps extraction (EUCAIM-SW-053_T-02-01-002)\n",
      "  - ID: functional_connectivity, Name: none\n",
      "  - ID: overall_survival_in_neuroblastoma, Name: Overall survival in neuroblastoma by GIBI230 (EUCAIM-SW-078_T-02-04-008)\n",
      "  - ID: overall_survival_and_treatment_response_in_glioblastoma_multiforme, Name: Overall survival and treatment response in glioblastoma multiforme (EUCAIM-SW-077_T-02-04-007)\n",
      "  - ID: mr-based_glioblastoma_tumour_detection_and_segmentation, Name: MR-based glioblastoma tumour detection and segmentation (EUCAIM-SW-021_T-01-02-004)\n",
      "  - ID: mr-based_neuroblastoma_tumour_detection_and_segmentation, Name: MR-based neuroblastoma tumour detection and segmentation (EUCAIM-SW-019_T-01-02-002)\n",
      "  - ID: ml_model_for_mr_series_categorisation, Name: ML model for MR series categorisation (EUCAIM-SW-011_T-01-01-011)\n",
      "  - ID: qp-insights_uploader, Name: QP-Insights Uploader\n",
      "  - ID: dicom_tags_extractor, Name: DICOM tags extractor\n",
      "  - ID: radiatus, Name: Radiatus\n",
      "  - ID: dicom_file_integrity_checker_by_gibi230, Name: DICOM File Integrity Checker (EUCAIM-SW-002_T-01-01-002)\n",
      "  - ID: act, Name: Arabidopsis Co-expression Tool (ACT)\n",
      "  - ID: samtools, Name: SAMtools\n",
      "  - ID: BlobToolKit, Name: BlobToolKit\n",
      "  - ID: tooldistillator, Name: ToolDistillator\n",
      "  - ID: bdpn, Name: bdct\n",
      "  - ID: rexposome, Name: rexposome\n",
      "  - ID: mainzelliste, Name: Mainzelliste\n",
      "  - ID: rspace, Name: RSpace\n",
      "  - ID: nf-core_airrflow, Name: nf-core airrflow\n",
      "  - ID: kvfinder-web, Name: KVFinder-web\n",
      "  - ID: genesplicer, Name: GeneSplicer\n",
      "  - ID: spladder, Name: SplAdder\n",
      "  - ID: buffercalc, Name: BufferCalc\n",
      "  - ID: eetl_toolset, Name: EUCAIM ETL toolset\n",
      "  - ID: pia, Name: PIA - Protein Inference Algorithms\n",
      "  - ID: biosurfdb, Name: BioSurfDB\n",
      "  - ID: data_ingestion_tool_upv_reference_node, Name: Data Ingestion Tool (UPV Reference Node)\n",
      "  - ID: gemma, Name: Gemma\n",
      "  - ID: MINERVA_Platform, Name: The MINERVA Platform\n",
      "  - ID: coreprofiler, Name: Coreprofiler\n",
      "  - ID: nextprot, Name: neXtProt\n",
      "  - ID: ddmut-ppi, Name: DDMut-PPI\n",
      "  - ID: lifemonitor, Name: LifeMonitor\n",
      "  - ID: matheat, Name: MatHeat\n",
      "  - ID: inps-md, Name: INPS-MD\n",
      "  - ID: ddgemb, Name: DDGemb\n",
      "  - ID: gtestimate, Name: GTestimate\n",
      "  - ID: ms2lda_2.0, Name: MS2LDA 2.0\n",
      "  - ID: pep-fold4, Name: PEP-FOLD4\n",
      "  - ID: lipidone_2.2, Name: LipidOne 2.2\n",
      "  - ID: metidfyr, Name: MetIDfyR\n",
      "  - ID: magneto, Name: MAGNETO\n",
      "  - ID: pvga, Name: PVGA\n",
      "  - ID: ensembleflex, Name: EnsembleFlex\n",
      "\n",
      "Data saved to 'microbiology_tools_ids_names.json'\n"
     ]
    }
   ],
   "source": [
    "# Display the extracted IDs and names\n",
    "print(\"\\nExtracted Tool IDs and Names:\")\n",
    "for tool_info in microbiology_tools_info:\n",
    "    print(f\"  - ID: {tool_info['id']}, Name: {tool_info['name']}\")\n",
    "\n",
    "# Optionally, save to a JSON file\n",
    "output_filename = \"/shared/projects/mudis4ls_is4_benchmark/IS4_repo/catalogue/microbiology_tools_ids_names.json\"\n",
    "with open(output_filename, \"w\", encoding=\"utf-8\") as f:\n",
    "    json.dump(microbiology_tools_info, f, ensure_ascii=False, indent=4)\n",
    "print(f\"\\nData saved to '{output_filename}'\")"
   ]
  }
 ],
 "metadata": {
  "kernelspec": {
   "display_name": "Python 3 (ipykernel)",
   "language": "python",
   "name": "python3"
  },
  "language_info": {
   "codemirror_mode": {
    "name": "ipython",
    "version": 3
   },
   "file_extension": ".py",
   "mimetype": "text/x-python",
   "name": "python",
   "nbconvert_exporter": "python",
   "pygments_lexer": "ipython3",
   "version": "3.13.1"
  }
 },
 "nbformat": 4,
 "nbformat_minor": 2
}
