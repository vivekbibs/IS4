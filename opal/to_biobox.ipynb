{
 "cells": [
  {
   "cell_type": "code",
   "execution_count": 54,
   "metadata": {},
   "outputs": [],
   "source": [
    "import pandas as pd"
   ]
  },
  {
   "cell_type": "code",
   "execution_count": 55,
   "metadata": {},
   "outputs": [],
   "source": [
    "metaphlan=pd.read_csv(\n",
    "    \"/shared/projects/mudis4ls_is4_benchmark/test_results/metaphlan/metaphlan_output_gtdb.txt\", sep=\"\\t\",\n",
    "    header=1\n",
    "    )"
   ]
  },
  {
   "cell_type": "code",
   "execution_count": 56,
   "metadata": {},
   "outputs": [],
   "source": [
    "sylph=pd.read_csv(\"/shared/projects/mudis4ls_is4_benchmark/test_results/sylph/ERS12377136.fastq.gz.sylphmpa\",\n",
    "                  sep=\"\\t\", header=1)"
   ]
  },
  {
   "cell_type": "code",
   "execution_count": 57,
   "metadata": {},
   "outputs": [],
   "source": [
    "bracken=pd.read_csv(\"/shared/projects/mudis4ls_is4_benchmark/test_results/kraken/gtdb/test_Species.bracken\", sep=\"\\t\")\n"
   ]
  },
  {
   "cell_type": "code",
   "execution_count": 58,
   "metadata": {},
   "outputs": [],
   "source": [
    "meteor=pd.read_csv(\"/shared/projects/mudis4ls_is4_benchmark/test_results/meteor/profile/ERS12377136/ERS12377136_msp.tsv\",sep=\"\\t\")\n",
    "msp_bd = pd.read_feather(\"/shared/projects/mudis4ls_is4_benchmark/BDs/hs_10_4_gut/database/hs_10_4_gut_1990MSPs_gtdb_r220.feather\")\n",
    "msp_bd[\"gtdb_r220_classification\"] = msp_bd[\"gtdb_r220_classification\"].str.replace(\";\", \"|\", regex=False)\n"
   ]
  },
  {
   "cell_type": "code",
   "execution_count": 59,
   "metadata": {},
   "outputs": [
    {
     "data": {
      "text/html": [
       "<div>\n",
       "<style scoped>\n",
       "    .dataframe tbody tr th:only-of-type {\n",
       "        vertical-align: middle;\n",
       "    }\n",
       "\n",
       "    .dataframe tbody tr th {\n",
       "        vertical-align: top;\n",
       "    }\n",
       "\n",
       "    .dataframe thead th {\n",
       "        text-align: right;\n",
       "    }\n",
       "</style>\n",
       "<table border=\"1\" class=\"dataframe\">\n",
       "  <thead>\n",
       "    <tr style=\"text-align: right;\">\n",
       "      <th></th>\n",
       "      <th>value</th>\n",
       "      <th>gtdb_r220_classification</th>\n",
       "    </tr>\n",
       "  </thead>\n",
       "  <tbody>\n",
       "    <tr>\n",
       "      <th>0</th>\n",
       "      <td>0.022924</td>\n",
       "      <td>d__Bacteria|p__Bacteroidota|c__Bacteroidia|o__...</td>\n",
       "    </tr>\n",
       "    <tr>\n",
       "      <th>1</th>\n",
       "      <td>0.011958</td>\n",
       "      <td>d__Bacteria|p__Bacillota_A|c__Clostridia|o__La...</td>\n",
       "    </tr>\n",
       "    <tr>\n",
       "      <th>2</th>\n",
       "      <td>0.016823</td>\n",
       "      <td>d__Bacteria|p__Bacteroidota|c__Bacteroidia|o__...</td>\n",
       "    </tr>\n",
       "    <tr>\n",
       "      <th>3</th>\n",
       "      <td>0.037285</td>\n",
       "      <td>d__Bacteria|p__Bacillota_A|c__Clostridia|o__La...</td>\n",
       "    </tr>\n",
       "    <tr>\n",
       "      <th>4</th>\n",
       "      <td>0.015694</td>\n",
       "      <td>d__Bacteria|p__Bacillota_A|c__Clostridia|o__La...</td>\n",
       "    </tr>\n",
       "    <tr>\n",
       "      <th>...</th>\n",
       "      <td>...</td>\n",
       "      <td>...</td>\n",
       "    </tr>\n",
       "    <tr>\n",
       "      <th>62</th>\n",
       "      <td>0.004740</td>\n",
       "      <td>d__Bacteria|p__Bacillota_A|c__Clostridia|o__Mo...</td>\n",
       "    </tr>\n",
       "    <tr>\n",
       "      <th>63</th>\n",
       "      <td>0.006924</td>\n",
       "      <td>d__Bacteria|p__Bacillota_A|c__Clostridia|o__La...</td>\n",
       "    </tr>\n",
       "    <tr>\n",
       "      <th>64</th>\n",
       "      <td>0.005266</td>\n",
       "      <td>d__Bacteria|p__Bacillota_A|c__Clostridia|o__La...</td>\n",
       "    </tr>\n",
       "    <tr>\n",
       "      <th>65</th>\n",
       "      <td>0.016690</td>\n",
       "      <td>d__Bacteria|p__Bacillota_A|c__Clostridia|o__TA...</td>\n",
       "    </tr>\n",
       "    <tr>\n",
       "      <th>66</th>\n",
       "      <td>0.067027</td>\n",
       "      <td>d__Bacteria|p__Bacillota_A|c__Clostridia|o__Os...</td>\n",
       "    </tr>\n",
       "  </tbody>\n",
       "</table>\n",
       "<p>67 rows × 2 columns</p>\n",
       "</div>"
      ],
      "text/plain": [
       "       value                           gtdb_r220_classification\n",
       "0   0.022924  d__Bacteria|p__Bacteroidota|c__Bacteroidia|o__...\n",
       "1   0.011958  d__Bacteria|p__Bacillota_A|c__Clostridia|o__La...\n",
       "2   0.016823  d__Bacteria|p__Bacteroidota|c__Bacteroidia|o__...\n",
       "3   0.037285  d__Bacteria|p__Bacillota_A|c__Clostridia|o__La...\n",
       "4   0.015694  d__Bacteria|p__Bacillota_A|c__Clostridia|o__La...\n",
       "..       ...                                                ...\n",
       "62  0.004740  d__Bacteria|p__Bacillota_A|c__Clostridia|o__Mo...\n",
       "63  0.006924  d__Bacteria|p__Bacillota_A|c__Clostridia|o__La...\n",
       "64  0.005266  d__Bacteria|p__Bacillota_A|c__Clostridia|o__La...\n",
       "65  0.016690  d__Bacteria|p__Bacillota_A|c__Clostridia|o__TA...\n",
       "66  0.067027  d__Bacteria|p__Bacillota_A|c__Clostridia|o__Os...\n",
       "\n",
       "[67 rows x 2 columns]"
      ]
     },
     "execution_count": 59,
     "metadata": {},
     "output_type": "execute_result"
    }
   ],
   "source": [
    "meteor=meteor.merge(msp_bd)\n",
    "meteor=meteor[[\"value\",\"gtdb_r220_classification\"]]\n",
    "meteor= meteor[meteor[\"value\"] != 0]\n",
    "meteor.reset_index(drop=True)"
   ]
  },
  {
   "cell_type": "code",
   "execution_count": 60,
   "metadata": {},
   "outputs": [
    {
     "name": "stderr",
     "output_type": "stream",
     "text": [
      "/tmp/ipykernel_3712647/3334215440.py:2: SettingWithCopyWarning: \n",
      "A value is trying to be set on a copy of a slice from a DataFrame\n",
      "\n",
      "See the caveats in the documentation: https://pandas.pydata.org/pandas-docs/stable/user_guide/indexing.html#returning-a-view-versus-a-copy\n",
      "  sylph_species.drop(columns=[\"sequence_abundance\", \"ANI (if strain-level)\", \" Coverage (if strain-level)\"], inplace=True)\n",
      "/tmp/ipykernel_3712647/3334215440.py:3: SettingWithCopyWarning: \n",
      "A value is trying to be set on a copy of a slice from a DataFrame\n",
      "\n",
      "See the caveats in the documentation: https://pandas.pydata.org/pandas-docs/stable/user_guide/indexing.html#returning-a-view-versus-a-copy\n",
      "  sylph_species.rename(columns={\"clade_name\":\"gtdb_r220_classification\"}, inplace=True)\n"
     ]
    }
   ],
   "source": [
    "sylph_species=sylph[sylph[\"clade_name\"].str.contains(r\"s__.+$\", na=False)]\n",
    "sylph_species.drop(columns=[\"sequence_abundance\", \"ANI (if strain-level)\", \" Coverage (if strain-level)\"], inplace=True)\n",
    "sylph_species.rename(columns={\"clade_name\":\"gtdb_r220_classification\"}, inplace=True)"
   ]
  },
  {
   "cell_type": "code",
   "execution_count": 61,
   "metadata": {},
   "outputs": [],
   "source": [
    "metaphlan_species = metaphlan[metaphlan[\"#clade_name\"].str.contains(r\"s__.+$\", na=False)]\n",
    "metaphlan_species=metaphlan_species.replace(r\";\", \"|\", regex=True)\n",
    "metaphlan_species.rename(columns={\"#clade_name\":\"gtdb_r220_classification\"}, inplace=True)"
   ]
  },
  {
   "cell_type": "code",
   "execution_count": 62,
   "metadata": {},
   "outputs": [],
   "source": [
    "meteor.rename(columns={\"value\":\"abundance\"}, inplace=True)"
   ]
  },
  {
   "cell_type": "code",
   "execution_count": 63,
   "metadata": {},
   "outputs": [],
   "source": [
    "bracken=bracken[[\"name\",\"fraction_total_reads\"]]\n",
    "bracken.rename(columns={\"name\":\"species\"}, inplace=True)"
   ]
  },
  {
   "cell_type": "code",
   "execution_count": 64,
   "metadata": {},
   "outputs": [
    {
     "data": {
      "text/html": [
       "<div>\n",
       "<style scoped>\n",
       "    .dataframe tbody tr th:only-of-type {\n",
       "        vertical-align: middle;\n",
       "    }\n",
       "\n",
       "    .dataframe tbody tr th {\n",
       "        vertical-align: top;\n",
       "    }\n",
       "\n",
       "    .dataframe thead th {\n",
       "        text-align: right;\n",
       "    }\n",
       "</style>\n",
       "<table border=\"1\" class=\"dataframe\">\n",
       "  <thead>\n",
       "    <tr style=\"text-align: right;\">\n",
       "      <th></th>\n",
       "      <th>species</th>\n",
       "      <th>fraction_total_reads</th>\n",
       "    </tr>\n",
       "  </thead>\n",
       "  <tbody>\n",
       "    <tr>\n",
       "      <th>0</th>\n",
       "      <td>Bacteroides stercoris</td>\n",
       "      <td>0.07276</td>\n",
       "    </tr>\n",
       "    <tr>\n",
       "      <th>1</th>\n",
       "      <td>Bacteroides uniformis</td>\n",
       "      <td>0.05809</td>\n",
       "    </tr>\n",
       "    <tr>\n",
       "      <th>2</th>\n",
       "      <td>Bacteroides xylanisolvens</td>\n",
       "      <td>0.02812</td>\n",
       "    </tr>\n",
       "    <tr>\n",
       "      <th>3</th>\n",
       "      <td>Bacteroides finegoldii</td>\n",
       "      <td>0.01931</td>\n",
       "    </tr>\n",
       "    <tr>\n",
       "      <th>4</th>\n",
       "      <td>Bacteroides ovatus</td>\n",
       "      <td>0.01542</td>\n",
       "    </tr>\n",
       "    <tr>\n",
       "      <th>...</th>\n",
       "      <td>...</td>\n",
       "      <td>...</td>\n",
       "    </tr>\n",
       "    <tr>\n",
       "      <th>1077</th>\n",
       "      <td>Methanolobus mangrovi</td>\n",
       "      <td>0.00002</td>\n",
       "    </tr>\n",
       "    <tr>\n",
       "      <th>1078</th>\n",
       "      <td>Homo sapiens</td>\n",
       "      <td>0.00010</td>\n",
       "    </tr>\n",
       "    <tr>\n",
       "      <th>1079</th>\n",
       "      <td>Junduvirus communis</td>\n",
       "      <td>0.00019</td>\n",
       "    </tr>\n",
       "    <tr>\n",
       "      <th>1080</th>\n",
       "      <td>Junduvirus copri</td>\n",
       "      <td>0.00002</td>\n",
       "    </tr>\n",
       "    <tr>\n",
       "      <th>1081</th>\n",
       "      <td>Parabacteroides phage YZ-2015a</td>\n",
       "      <td>0.00002</td>\n",
       "    </tr>\n",
       "  </tbody>\n",
       "</table>\n",
       "<p>1082 rows × 2 columns</p>\n",
       "</div>"
      ],
      "text/plain": [
       "                             species  fraction_total_reads\n",
       "0              Bacteroides stercoris               0.07276\n",
       "1              Bacteroides uniformis               0.05809\n",
       "2          Bacteroides xylanisolvens               0.02812\n",
       "3             Bacteroides finegoldii               0.01931\n",
       "4                 Bacteroides ovatus               0.01542\n",
       "...                              ...                   ...\n",
       "1077           Methanolobus mangrovi               0.00002\n",
       "1078                    Homo sapiens               0.00010\n",
       "1079             Junduvirus communis               0.00019\n",
       "1080                Junduvirus copri               0.00002\n",
       "1081  Parabacteroides phage YZ-2015a               0.00002\n",
       "\n",
       "[1082 rows x 2 columns]"
      ]
     },
     "execution_count": 64,
     "metadata": {},
     "output_type": "execute_result"
    }
   ],
   "source": [
    "bracken"
   ]
  },
  {
   "cell_type": "code",
   "execution_count": 65,
   "metadata": {},
   "outputs": [],
   "source": [
    "bac120=pd.read_csv(\n",
    "    \"/shared/projects/mudis4ls_is4_benchmark/gtdb/bac120_taxonomy_r220.tsv\",\n",
    "    sep=\"\\t\",\n",
    "    header=None\n",
    "    )\n",
    "bac120.rename(columns={0: \"gtdb_ID\", 1: \"gtdb_r220_classification\"}, inplace=True)\n",
    "# Extraire les parties après g__ et s__\n",
    "# Extraire la partie après s__\n",
    "bac120['species'] = bac120['gtdb_r220_classification'].str.extract(r's__([^;]+)')\n"
   ]
  },
  {
   "cell_type": "code",
   "execution_count": 66,
   "metadata": {},
   "outputs": [],
   "source": [
    "ar54=pd.read_csv(\n",
    "    \"/shared/projects/mudis4ls_is4_benchmark/gtdb/ar53_taxonomy_r220.tsv\",\n",
    "    sep=\"\\t\",\n",
    "    header=None\n",
    "    )\n",
    "ar54.rename(columns={0: \"gtdb_ID\", 1: \"gtdb_r220_classification\"}, inplace=True)\n",
    "# Extraire les parties après g__ et s__\n",
    "# Extraire la partie après s__\n",
    "ar54['species'] = ar54['gtdb_r220_classification'].str.extract(r's__([^;]+)')"
   ]
  },
  {
   "cell_type": "code",
   "execution_count": 67,
   "metadata": {},
   "outputs": [],
   "source": [
    "ar54['gtdb_r220_classification'] = ar54['gtdb_r220_classification'].str.replace(';', '|', regex=False)\n"
   ]
  },
  {
   "cell_type": "code",
   "execution_count": 68,
   "metadata": {},
   "outputs": [],
   "source": [
    "bac120['gtdb_r220_classification'] = bac120['gtdb_r220_classification'].str.replace(';', '|', regex=False)"
   ]
  },
  {
   "cell_type": "code",
   "execution_count": 69,
   "metadata": {},
   "outputs": [],
   "source": [
    "ar_bac = pd.concat([bac120, ar54], ignore_index=True)\n"
   ]
  },
  {
   "cell_type": "code",
   "execution_count": 70,
   "metadata": {},
   "outputs": [
    {
     "data": {
      "text/html": [
       "<div>\n",
       "<style scoped>\n",
       "    .dataframe tbody tr th:only-of-type {\n",
       "        vertical-align: middle;\n",
       "    }\n",
       "\n",
       "    .dataframe tbody tr th {\n",
       "        vertical-align: top;\n",
       "    }\n",
       "\n",
       "    .dataframe thead th {\n",
       "        text-align: right;\n",
       "    }\n",
       "</style>\n",
       "<table border=\"1\" class=\"dataframe\">\n",
       "  <thead>\n",
       "    <tr style=\"text-align: right;\">\n",
       "      <th></th>\n",
       "      <th>gtdb_ID</th>\n",
       "      <th>gtdb_r220_classification</th>\n",
       "      <th>species</th>\n",
       "    </tr>\n",
       "  </thead>\n",
       "  <tbody>\n",
       "    <tr>\n",
       "      <th>0</th>\n",
       "      <td>RS_GCF_015356595.1</td>\n",
       "      <td>d__Bacteria|p__Pseudomonadota|c__Gammaproteoba...</td>\n",
       "      <td>Escherichia coli</td>\n",
       "    </tr>\n",
       "    <tr>\n",
       "      <th>1</th>\n",
       "      <td>RS_GCF_026420985.1</td>\n",
       "      <td>d__Bacteria|p__Pseudomonadota|c__Gammaproteoba...</td>\n",
       "      <td>Escherichia coli</td>\n",
       "    </tr>\n",
       "    <tr>\n",
       "      <th>2</th>\n",
       "      <td>RS_GCF_001263015.1</td>\n",
       "      <td>d__Bacteria|p__Pseudomonadota|c__Gammaproteoba...</td>\n",
       "      <td>Escherichia coli</td>\n",
       "    </tr>\n",
       "    <tr>\n",
       "      <th>3</th>\n",
       "      <td>RS_GCF_014926105.1</td>\n",
       "      <td>d__Bacteria|p__Pseudomonadota|c__Gammaproteoba...</td>\n",
       "      <td>Escherichia coli</td>\n",
       "    </tr>\n",
       "    <tr>\n",
       "      <th>4</th>\n",
       "      <td>RS_GCF_003591595.1</td>\n",
       "      <td>d__Bacteria|p__Pseudomonadota|c__Gammaproteoba...</td>\n",
       "      <td>Escherichia coli</td>\n",
       "    </tr>\n",
       "    <tr>\n",
       "      <th>...</th>\n",
       "      <td>...</td>\n",
       "      <td>...</td>\n",
       "      <td>...</td>\n",
       "    </tr>\n",
       "    <tr>\n",
       "      <th>596854</th>\n",
       "      <td>GB_GCA_016202305.1</td>\n",
       "      <td>d__Archaea|p__Iainarchaeota|c__Iainarchaeia|o_...</td>\n",
       "      <td>UBA10205 sp016202305</td>\n",
       "    </tr>\n",
       "    <tr>\n",
       "      <th>596855</th>\n",
       "      <td>GB_GCA_016185685.1</td>\n",
       "      <td>d__Archaea|p__Nanoarchaeota|c__Nanoarchaeia|o_...</td>\n",
       "      <td>JACPNC01 sp016185685</td>\n",
       "    </tr>\n",
       "    <tr>\n",
       "      <th>596856</th>\n",
       "      <td>GB_GCA_029850555.1</td>\n",
       "      <td>d__Archaea|p__Thermoproteota|c__Nitrososphaeri...</td>\n",
       "      <td>CADDZS01 sp029850555</td>\n",
       "    </tr>\n",
       "    <tr>\n",
       "      <th>596857</th>\n",
       "      <td>GB_GCA_020723065.1</td>\n",
       "      <td>d__Archaea|p__Micrarchaeota|c__Micrarchaeia|o_...</td>\n",
       "      <td>DTQF01 sp020723065</td>\n",
       "    </tr>\n",
       "    <tr>\n",
       "      <th>596858</th>\n",
       "      <td>GB_GCA_016207545.1</td>\n",
       "      <td>d__Archaea|p__Thermoplasmatota|c__Thermoplasma...</td>\n",
       "      <td>EA-27 sp016207545</td>\n",
       "    </tr>\n",
       "  </tbody>\n",
       "</table>\n",
       "<p>596859 rows × 3 columns</p>\n",
       "</div>"
      ],
      "text/plain": [
       "                   gtdb_ID                           gtdb_r220_classification  \\\n",
       "0       RS_GCF_015356595.1  d__Bacteria|p__Pseudomonadota|c__Gammaproteoba...   \n",
       "1       RS_GCF_026420985.1  d__Bacteria|p__Pseudomonadota|c__Gammaproteoba...   \n",
       "2       RS_GCF_001263015.1  d__Bacteria|p__Pseudomonadota|c__Gammaproteoba...   \n",
       "3       RS_GCF_014926105.1  d__Bacteria|p__Pseudomonadota|c__Gammaproteoba...   \n",
       "4       RS_GCF_003591595.1  d__Bacteria|p__Pseudomonadota|c__Gammaproteoba...   \n",
       "...                    ...                                                ...   \n",
       "596854  GB_GCA_016202305.1  d__Archaea|p__Iainarchaeota|c__Iainarchaeia|o_...   \n",
       "596855  GB_GCA_016185685.1  d__Archaea|p__Nanoarchaeota|c__Nanoarchaeia|o_...   \n",
       "596856  GB_GCA_029850555.1  d__Archaea|p__Thermoproteota|c__Nitrososphaeri...   \n",
       "596857  GB_GCA_020723065.1  d__Archaea|p__Micrarchaeota|c__Micrarchaeia|o_...   \n",
       "596858  GB_GCA_016207545.1  d__Archaea|p__Thermoplasmatota|c__Thermoplasma...   \n",
       "\n",
       "                     species  \n",
       "0           Escherichia coli  \n",
       "1           Escherichia coli  \n",
       "2           Escherichia coli  \n",
       "3           Escherichia coli  \n",
       "4           Escherichia coli  \n",
       "...                      ...  \n",
       "596854  UBA10205 sp016202305  \n",
       "596855  JACPNC01 sp016185685  \n",
       "596856  CADDZS01 sp029850555  \n",
       "596857    DTQF01 sp020723065  \n",
       "596858     EA-27 sp016207545  \n",
       "\n",
       "[596859 rows x 3 columns]"
      ]
     },
     "execution_count": 70,
     "metadata": {},
     "output_type": "execute_result"
    }
   ],
   "source": [
    "ar_bac"
   ]
  },
  {
   "cell_type": "code",
   "execution_count": 71,
   "metadata": {},
   "outputs": [
    {
     "data": {
      "text/html": [
       "<div>\n",
       "<style scoped>\n",
       "    .dataframe tbody tr th:only-of-type {\n",
       "        vertical-align: middle;\n",
       "    }\n",
       "\n",
       "    .dataframe tbody tr th {\n",
       "        vertical-align: top;\n",
       "    }\n",
       "\n",
       "    .dataframe thead th {\n",
       "        text-align: right;\n",
       "    }\n",
       "</style>\n",
       "<table border=\"1\" class=\"dataframe\">\n",
       "  <thead>\n",
       "    <tr style=\"text-align: right;\">\n",
       "      <th></th>\n",
       "      <th>gtdb_r220_classification</th>\n",
       "      <th>relative_abundance</th>\n",
       "    </tr>\n",
       "  </thead>\n",
       "  <tbody>\n",
       "    <tr>\n",
       "      <th>37</th>\n",
       "      <td>d__Bacteria|p__Bacteroidota|c__Bacteroidia|o__...</td>\n",
       "      <td>19.68851</td>\n",
       "    </tr>\n",
       "    <tr>\n",
       "      <th>38</th>\n",
       "      <td>d__Bacteria|p__Firmicutes_A|c__Clostridia|o__L...</td>\n",
       "      <td>16.27582</td>\n",
       "    </tr>\n",
       "    <tr>\n",
       "      <th>39</th>\n",
       "      <td>d__Bacteria|p__Firmicutes_A|c__Clostridia|o__O...</td>\n",
       "      <td>10.45622</td>\n",
       "    </tr>\n",
       "    <tr>\n",
       "      <th>40</th>\n",
       "      <td>d__Bacteria|p__Bacteroidota|c__Bacteroidia|o__...</td>\n",
       "      <td>9.35497</td>\n",
       "    </tr>\n",
       "    <tr>\n",
       "      <th>41</th>\n",
       "      <td>d__Bacteria|p__Bacteroidota|c__Bacteroidia|o__...</td>\n",
       "      <td>7.75750</td>\n",
       "    </tr>\n",
       "    <tr>\n",
       "      <th>42</th>\n",
       "      <td>d__Bacteria|p__Bacteroidota|c__Bacteroidia|o__...</td>\n",
       "      <td>7.73848</td>\n",
       "    </tr>\n",
       "    <tr>\n",
       "      <th>43</th>\n",
       "      <td>d__Bacteria|p__Firmicutes_A|c__Clostridia|o__O...</td>\n",
       "      <td>5.47609</td>\n",
       "    </tr>\n",
       "    <tr>\n",
       "      <th>44</th>\n",
       "      <td>d__Bacteria|p__Firmicutes_C|c__Negativicutes|o...</td>\n",
       "      <td>3.35772</td>\n",
       "    </tr>\n",
       "    <tr>\n",
       "      <th>45</th>\n",
       "      <td>d__Bacteria|p__Bacteroidota|c__Bacteroidia|o__...</td>\n",
       "      <td>3.31197</td>\n",
       "    </tr>\n",
       "    <tr>\n",
       "      <th>46</th>\n",
       "      <td>d__Bacteria|p__Bacteroidota|c__Bacteroidia|o__...</td>\n",
       "      <td>2.74204</td>\n",
       "    </tr>\n",
       "    <tr>\n",
       "      <th>47</th>\n",
       "      <td>d__Bacteria|p__Firmicutes_A|c__Clostridia|o__L...</td>\n",
       "      <td>2.57583</td>\n",
       "    </tr>\n",
       "    <tr>\n",
       "      <th>48</th>\n",
       "      <td>d__Bacteria|p__Firmicutes_A|c__Clostridia|o__O...</td>\n",
       "      <td>2.18505</td>\n",
       "    </tr>\n",
       "    <tr>\n",
       "      <th>49</th>\n",
       "      <td>d__Bacteria|p__Firmicutes_A|c__Clostridia|o__O...</td>\n",
       "      <td>2.04616</td>\n",
       "    </tr>\n",
       "    <tr>\n",
       "      <th>50</th>\n",
       "      <td>d__Bacteria|p__Firmicutes_A|c__Clostridia|o__L...</td>\n",
       "      <td>1.94173</td>\n",
       "    </tr>\n",
       "    <tr>\n",
       "      <th>51</th>\n",
       "      <td>d__Bacteria|p__Bacteroidota|c__Bacteroidia|o__...</td>\n",
       "      <td>1.36180</td>\n",
       "    </tr>\n",
       "    <tr>\n",
       "      <th>52</th>\n",
       "      <td>d__Bacteria|p__Firmicutes_A|c__Clostridia|o__L...</td>\n",
       "      <td>1.25307</td>\n",
       "    </tr>\n",
       "    <tr>\n",
       "      <th>53</th>\n",
       "      <td>d__Bacteria|p__Proteobacteria|c__Alphaproteoba...</td>\n",
       "      <td>1.05005</td>\n",
       "    </tr>\n",
       "    <tr>\n",
       "      <th>54</th>\n",
       "      <td>d__Bacteria|p__Firmicutes_A|c__Clostridia|o__L...</td>\n",
       "      <td>0.93494</td>\n",
       "    </tr>\n",
       "    <tr>\n",
       "      <th>55</th>\n",
       "      <td>d__Bacteria|p__Bacteroidota|c__Bacteroidia|o__...</td>\n",
       "      <td>0.25081</td>\n",
       "    </tr>\n",
       "    <tr>\n",
       "      <th>56</th>\n",
       "      <td>d__Bacteria|p__Firmicutes_A|c__Clostridia|o__L...</td>\n",
       "      <td>0.24124</td>\n",
       "    </tr>\n",
       "  </tbody>\n",
       "</table>\n",
       "</div>"
      ],
      "text/plain": [
       "                             gtdb_r220_classification  relative_abundance\n",
       "37  d__Bacteria|p__Bacteroidota|c__Bacteroidia|o__...            19.68851\n",
       "38  d__Bacteria|p__Firmicutes_A|c__Clostridia|o__L...            16.27582\n",
       "39  d__Bacteria|p__Firmicutes_A|c__Clostridia|o__O...            10.45622\n",
       "40  d__Bacteria|p__Bacteroidota|c__Bacteroidia|o__...             9.35497\n",
       "41  d__Bacteria|p__Bacteroidota|c__Bacteroidia|o__...             7.75750\n",
       "42  d__Bacteria|p__Bacteroidota|c__Bacteroidia|o__...             7.73848\n",
       "43  d__Bacteria|p__Firmicutes_A|c__Clostridia|o__O...             5.47609\n",
       "44  d__Bacteria|p__Firmicutes_C|c__Negativicutes|o...             3.35772\n",
       "45  d__Bacteria|p__Bacteroidota|c__Bacteroidia|o__...             3.31197\n",
       "46  d__Bacteria|p__Bacteroidota|c__Bacteroidia|o__...             2.74204\n",
       "47  d__Bacteria|p__Firmicutes_A|c__Clostridia|o__L...             2.57583\n",
       "48  d__Bacteria|p__Firmicutes_A|c__Clostridia|o__O...             2.18505\n",
       "49  d__Bacteria|p__Firmicutes_A|c__Clostridia|o__O...             2.04616\n",
       "50  d__Bacteria|p__Firmicutes_A|c__Clostridia|o__L...             1.94173\n",
       "51  d__Bacteria|p__Bacteroidota|c__Bacteroidia|o__...             1.36180\n",
       "52  d__Bacteria|p__Firmicutes_A|c__Clostridia|o__L...             1.25307\n",
       "53  d__Bacteria|p__Proteobacteria|c__Alphaproteoba...             1.05005\n",
       "54  d__Bacteria|p__Firmicutes_A|c__Clostridia|o__L...             0.93494\n",
       "55  d__Bacteria|p__Bacteroidota|c__Bacteroidia|o__...             0.25081\n",
       "56  d__Bacteria|p__Firmicutes_A|c__Clostridia|o__L...             0.24124"
      ]
     },
     "execution_count": 71,
     "metadata": {},
     "output_type": "execute_result"
    }
   ],
   "source": [
    "metaphlan_species"
   ]
  },
  {
   "cell_type": "code",
   "execution_count": 72,
   "metadata": {},
   "outputs": [],
   "source": [
    "gtdb_mapping=pd.read_csv(\"/shared/projects/mudis4ls_is4_benchmark/gtdb/207_220_mapping_full.tsv\", sep=\"\\t\")"
   ]
  },
  {
   "cell_type": "code",
   "execution_count": 73,
   "metadata": {},
   "outputs": [],
   "source": [
    "gtdb_mapping['old_taxonomy'] = gtdb_mapping['old_taxonomy'].str.replace(';', '|', regex=False)\n",
    "gtdb_mapping['new_taxonomy'] = gtdb_mapping['new_taxonomy'].str.replace(';', '|', regex=False)\n"
   ]
  },
  {
   "cell_type": "code",
   "execution_count": 74,
   "metadata": {},
   "outputs": [
    {
     "data": {
      "text/html": [
       "<div>\n",
       "<style scoped>\n",
       "    .dataframe tbody tr th:only-of-type {\n",
       "        vertical-align: middle;\n",
       "    }\n",
       "\n",
       "    .dataframe tbody tr th {\n",
       "        vertical-align: top;\n",
       "    }\n",
       "\n",
       "    .dataframe thead th {\n",
       "        text-align: right;\n",
       "    }\n",
       "</style>\n",
       "<table border=\"1\" class=\"dataframe\">\n",
       "  <thead>\n",
       "    <tr style=\"text-align: right;\">\n",
       "      <th></th>\n",
       "      <th>old_taxonomy</th>\n",
       "      <th>new_taxonomy</th>\n",
       "      <th>level</th>\n",
       "    </tr>\n",
       "  </thead>\n",
       "  <tbody>\n",
       "    <tr>\n",
       "      <th>0</th>\n",
       "      <td>d__Bacteria</td>\n",
       "      <td>d__Bacteria</td>\n",
       "      <td>1</td>\n",
       "    </tr>\n",
       "    <tr>\n",
       "      <th>1</th>\n",
       "      <td>d__Bacteria|p__Proteobacteria</td>\n",
       "      <td>d__Bacteria|p__Pseudomonadota</td>\n",
       "      <td>2</td>\n",
       "    </tr>\n",
       "    <tr>\n",
       "      <th>2</th>\n",
       "      <td>d__Bacteria|p__Proteobacteria|c__Gammaproteoba...</td>\n",
       "      <td>d__Bacteria|p__Pseudomonadota|c__Gammaproteoba...</td>\n",
       "      <td>3</td>\n",
       "    </tr>\n",
       "    <tr>\n",
       "      <th>3</th>\n",
       "      <td>d__Bacteria|p__Proteobacteria|c__Gammaproteoba...</td>\n",
       "      <td>d__Bacteria|p__Pseudomonadota|c__Gammaproteoba...</td>\n",
       "      <td>4</td>\n",
       "    </tr>\n",
       "    <tr>\n",
       "      <th>4</th>\n",
       "      <td>d__Bacteria|p__Proteobacteria|c__Gammaproteoba...</td>\n",
       "      <td>d__Bacteria|p__Pseudomonadota|c__Gammaproteoba...</td>\n",
       "      <td>5</td>\n",
       "    </tr>\n",
       "    <tr>\n",
       "      <th>...</th>\n",
       "      <td>...</td>\n",
       "      <td>...</td>\n",
       "      <td>...</td>\n",
       "    </tr>\n",
       "    <tr>\n",
       "      <th>81102</th>\n",
       "      <td>d__Bacteria|p__Acidobacteriota|c__Acidobacteri...</td>\n",
       "      <td>d__Bacteria|p__Acidobacteriota|c__Terriglobia|...</td>\n",
       "      <td>7</td>\n",
       "    </tr>\n",
       "    <tr>\n",
       "      <th>81103</th>\n",
       "      <td>d__Bacteria|p__Firmicutes_A|c__Clostridia|o__L...</td>\n",
       "      <td>d__Bacteria|p__Bacillota_A|c__Clostridia|o__La...</td>\n",
       "      <td>7</td>\n",
       "    </tr>\n",
       "    <tr>\n",
       "      <th>81104</th>\n",
       "      <td>d__Bacteria|p__Firmicutes_A|c__Clostridia|o__O...</td>\n",
       "      <td>d__Bacteria|p__Bacillota_A|c__Clostridia|o__Os...</td>\n",
       "      <td>7</td>\n",
       "    </tr>\n",
       "    <tr>\n",
       "      <th>81105</th>\n",
       "      <td>d__Bacteria|p__Firmicutes_A|c__Clostridia|o__L...</td>\n",
       "      <td>d__Bacteria|p__Bacillota_A|c__Clostridia|o__La...</td>\n",
       "      <td>7</td>\n",
       "    </tr>\n",
       "    <tr>\n",
       "      <th>81106</th>\n",
       "      <td>d__Bacteria|p__Firmicutes|c__Bacilli|o__Thermo...</td>\n",
       "      <td>d__Bacteria|p__Bacillota|c__Bacilli|o__Thermoa...</td>\n",
       "      <td>7</td>\n",
       "    </tr>\n",
       "  </tbody>\n",
       "</table>\n",
       "<p>81107 rows × 3 columns</p>\n",
       "</div>"
      ],
      "text/plain": [
       "                                            old_taxonomy  \\\n",
       "0                                            d__Bacteria   \n",
       "1                          d__Bacteria|p__Proteobacteria   \n",
       "2      d__Bacteria|p__Proteobacteria|c__Gammaproteoba...   \n",
       "3      d__Bacteria|p__Proteobacteria|c__Gammaproteoba...   \n",
       "4      d__Bacteria|p__Proteobacteria|c__Gammaproteoba...   \n",
       "...                                                  ...   \n",
       "81102  d__Bacteria|p__Acidobacteriota|c__Acidobacteri...   \n",
       "81103  d__Bacteria|p__Firmicutes_A|c__Clostridia|o__L...   \n",
       "81104  d__Bacteria|p__Firmicutes_A|c__Clostridia|o__O...   \n",
       "81105  d__Bacteria|p__Firmicutes_A|c__Clostridia|o__L...   \n",
       "81106  d__Bacteria|p__Firmicutes|c__Bacilli|o__Thermo...   \n",
       "\n",
       "                                            new_taxonomy  level  \n",
       "0                                            d__Bacteria      1  \n",
       "1                          d__Bacteria|p__Pseudomonadota      2  \n",
       "2      d__Bacteria|p__Pseudomonadota|c__Gammaproteoba...      3  \n",
       "3      d__Bacteria|p__Pseudomonadota|c__Gammaproteoba...      4  \n",
       "4      d__Bacteria|p__Pseudomonadota|c__Gammaproteoba...      5  \n",
       "...                                                  ...    ...  \n",
       "81102  d__Bacteria|p__Acidobacteriota|c__Terriglobia|...      7  \n",
       "81103  d__Bacteria|p__Bacillota_A|c__Clostridia|o__La...      7  \n",
       "81104  d__Bacteria|p__Bacillota_A|c__Clostridia|o__Os...      7  \n",
       "81105  d__Bacteria|p__Bacillota_A|c__Clostridia|o__La...      7  \n",
       "81106  d__Bacteria|p__Bacillota|c__Bacilli|o__Thermoa...      7  \n",
       "\n",
       "[81107 rows x 3 columns]"
      ]
     },
     "execution_count": 74,
     "metadata": {},
     "output_type": "execute_result"
    }
   ],
   "source": [
    "gtdb_mapping"
   ]
  },
  {
   "cell_type": "code",
   "execution_count": 75,
   "metadata": {},
   "outputs": [],
   "source": [
    "# Fusionner les deux DataFrames sur la colonne 'gtdb_r220_classification' et 'old_taxonomy'\n",
    "metaphlan_species = pd.merge(metaphlan_species, gtdb_mapping, left_on='gtdb_r220_classification', right_on='old_taxonomy')\n",
    "\n"
   ]
  },
  {
   "cell_type": "code",
   "execution_count": 76,
   "metadata": {},
   "outputs": [],
   "source": [
    "metaphlan_species.drop(columns=[\"old_taxonomy\",\"gtdb_r220_classification\"], inplace=True)\n",
    "metaphlan_species.rename(columns={\"new_taxonomy\":\"gtdb_r220_classification\"}, inplace=True)"
   ]
  },
  {
   "cell_type": "code",
   "execution_count": 77,
   "metadata": {},
   "outputs": [],
   "source": [
    "metaphlan_species.drop(columns=\"level\", inplace=True)"
   ]
  },
  {
   "cell_type": "code",
   "execution_count": 78,
   "metadata": {},
   "outputs": [],
   "source": [
    "\n",
    "# Fonction pour sélectionner le gtdb_ID approprié\n",
    "def select_gtdb_id(group):\n",
    "    # Filtrer les gtdb_ID qui commencent par \"RS\"\n",
    "    rs_ids = group[group.str.startswith('RS')]\n",
    "    if not rs_ids.empty:\n",
    "        # Prendre le premier gtdb_ID qui commence par \"RS\"\n",
    "        return rs_ids.iloc[0]\n",
    "    else:\n",
    "        # Sinon, prendre le premier gtdb_ID disponible\n",
    "        return group.iloc[0]\n",
    "\n",
    "# Grouper par 'gtdb_r220_classification' et appliquer la fonction de sélection\n",
    "# L'objectif est d'avoir un fichier ar_bac qui n'a qu'un gtdb_id par gtdb_classification\n",
    "selected_gtdb_ids = ar_bac.groupby('gtdb_r220_classification')['gtdb_ID'].apply(select_gtdb_id).reset_index()\n",
    "\n",
    "# Fusionner les résultats avec le DataFrame original pour conserver les autres colonnes\n",
    "ar_bac_unique = pd.merge(selected_gtdb_ids, ar_bac, on=['gtdb_r220_classification', 'gtdb_ID'])\n",
    "\n"
   ]
  },
  {
   "cell_type": "code",
   "execution_count": 79,
   "metadata": {},
   "outputs": [],
   "source": [
    "# ar_bac_unique.to_csv(\"/shared/projects/mudis4ls_is4_benchmark/gtdb/ar_bac_unique.tsv\", sep=\"\\t\", index=False)"
   ]
  },
  {
   "cell_type": "code",
   "execution_count": 80,
   "metadata": {},
   "outputs": [
    {
     "data": {
      "text/plain": [
       "(Index(['relative_abundance', 'gtdb_r220_classification'], dtype='object'),\n",
       " Index(['gtdb_r220_classification', 'relative_abundance'], dtype='object'),\n",
       " Index(['abundance', 'gtdb_r220_classification'], dtype='object'),\n",
       " Index(['species', 'fraction_total_reads'], dtype='object'))"
      ]
     },
     "execution_count": 80,
     "metadata": {},
     "output_type": "execute_result"
    }
   ],
   "source": [
    "metaphlan_species.columns, sylph_species.columns, meteor.columns, bracken.columns"
   ]
  },
  {
   "cell_type": "code",
   "execution_count": 81,
   "metadata": {},
   "outputs": [],
   "source": [
    "metaphlan_species=metaphlan_species.merge(ar_bac_unique, on=\"gtdb_r220_classification\", how=\"inner\")\n",
    "sylph_species=sylph_species.merge(ar_bac_unique, on=\"gtdb_r220_classification\", how=\"inner\")\n",
    "meteor=meteor.merge(ar_bac_unique, on=\"gtdb_r220_classification\", how=\"inner\")"
   ]
  },
  {
   "cell_type": "code",
   "execution_count": 82,
   "metadata": {},
   "outputs": [],
   "source": [
    "bracken=bracken.merge(ar_bac_unique, on=\"species\", how=\"inner\")"
   ]
  },
  {
   "cell_type": "code",
   "execution_count": 83,
   "metadata": {},
   "outputs": [
    {
     "data": {
      "text/plain": [
       "(Index(['relative_abundance', 'gtdb_r220_classification', 'gtdb_ID', 'species'], dtype='object'),\n",
       " Index(['gtdb_r220_classification', 'relative_abundance', 'gtdb_ID', 'species'], dtype='object'),\n",
       " Index(['abundance', 'gtdb_r220_classification', 'gtdb_ID', 'species'], dtype='object'),\n",
       " Index(['species', 'fraction_total_reads', 'gtdb_r220_classification',\n",
       "        'gtdb_ID'],\n",
       "       dtype='object'))"
      ]
     },
     "execution_count": 83,
     "metadata": {},
     "output_type": "execute_result"
    }
   ],
   "source": [
    "metaphlan_species.columns, sylph_species.columns, meteor.columns, bracken.columns"
   ]
  },
  {
   "cell_type": "code",
   "execution_count": 84,
   "metadata": {},
   "outputs": [],
   "source": [
    "metaphlan_species['rank'] = 'species'\n",
    "sylph_species['rank'] = 'species'\n",
    "meteor['rank'] = 'species'\n",
    "bracken['rank'] = 'species'"
   ]
  },
  {
   "cell_type": "code",
   "execution_count": 85,
   "metadata": {},
   "outputs": [
    {
     "data": {
      "text/plain": [
       "(Index(['relative_abundance', 'gtdb_r220_classification', 'gtdb_ID', 'species',\n",
       "        'rank'],\n",
       "       dtype='object'),\n",
       " Index(['gtdb_r220_classification', 'relative_abundance', 'gtdb_ID', 'species',\n",
       "        'rank'],\n",
       "       dtype='object'),\n",
       " Index(['abundance', 'gtdb_r220_classification', 'gtdb_ID', 'species', 'rank'], dtype='object'),\n",
       " Index(['species', 'fraction_total_reads', 'gtdb_r220_classification',\n",
       "        'gtdb_ID', 'rank'],\n",
       "       dtype='object'))"
      ]
     },
     "execution_count": 85,
     "metadata": {},
     "output_type": "execute_result"
    }
   ],
   "source": [
    "metaphlan_species.columns, sylph_species.columns, meteor.columns, bracken.columns"
   ]
  },
  {
   "cell_type": "code",
   "execution_count": 86,
   "metadata": {},
   "outputs": [],
   "source": [
    "# Changer l'ordre des colonnes\n",
    "metaphlan_species = metaphlan_species[['gtdb_ID', 'rank', 'species', 'relative_abundance']]\n",
    "sylph_species = sylph_species[['gtdb_ID', 'rank', 'species', 'relative_abundance']]\n",
    "meteor = meteor[['gtdb_ID', 'rank', 'species', 'abundance']]\n",
    "bracken = bracken[['gtdb_ID', 'rank', 'species', 'fraction_total_reads']]"
   ]
  },
  {
   "cell_type": "code",
   "execution_count": 88,
   "metadata": {},
   "outputs": [],
   "source": [
    "meteor.rename(columns={\"abundance\":\"relative_abundance\"}, inplace=True)\n",
    "bracken.rename(columns={\"fraction_total_reads\":\"relative_abundance\"}, inplace=True)"
   ]
  },
  {
   "cell_type": "code",
   "execution_count": 89,
   "metadata": {},
   "outputs": [],
   "source": [
    "bracken[\"relative_abundance\"]=bracken[\"relative_abundance\"]*100\n",
    "meteor[\"relative_abundance\"]=meteor[\"relative_abundance\"]*100\n"
   ]
  },
  {
   "cell_type": "code",
   "execution_count": 90,
   "metadata": {},
   "outputs": [],
   "source": [
    "def add_tax_path_column(df):\n",
    "    df['tax_path'] = df['gtdb_ID']\n",
    "    return df\n",
    "for df in [metaphlan_species, sylph_species, meteor, bracken]:\n",
    "    add_tax_path_column(df)"
   ]
  },
  {
   "cell_type": "code",
   "execution_count": 91,
   "metadata": {},
   "outputs": [],
   "source": [
    "\n",
    "new_column_names=[\"@@TAXID\", \"RANK\", \"TAXPATHSN\", \"PERCENTAGE\",\"TAXPATH\"] \n"
   ]
  },
  {
   "cell_type": "code",
   "execution_count": 92,
   "metadata": {},
   "outputs": [],
   "source": [
    "for df in [metaphlan_species, sylph_species, meteor, bracken]:\n",
    "    df.columns=new_column_names"
   ]
  },
  {
   "cell_type": "code",
   "execution_count": 93,
   "metadata": {},
   "outputs": [
    {
     "name": "stdout",
     "output_type": "stream",
     "text": [
      "Index(['@@TAXID', 'RANK', 'TAXPATH', 'TAXPATHSN', 'PERCENTAGE'], dtype='object')\n",
      "Index(['@@TAXID', 'RANK', 'TAXPATH', 'TAXPATHSN', 'PERCENTAGE'], dtype='object')\n",
      "Index(['@@TAXID', 'RANK', 'TAXPATH', 'TAXPATHSN', 'PERCENTAGE'], dtype='object')\n",
      "Index(['@@TAXID', 'RANK', 'TAXPATH', 'TAXPATHSN', 'PERCENTAGE'], dtype='object')\n"
     ]
    }
   ],
   "source": [
    "# Liste des DataFrames\n",
    "dataframes = [metaphlan_species, sylph_species, meteor, bracken]\n",
    "\n",
    "# Nouvel ordre des colonnes\n",
    "new_column_order = [\"@@TAXID\", \"RANK\", \"TAXPATH\", \"TAXPATHSN\", \"PERCENTAGE\"]\n",
    "\n",
    "# Réorganisation des colonnes pour chaque DataFrame\n",
    "for i, df in enumerate(dataframes):\n",
    "    dataframes[i] = df[new_column_order]\n",
    "\n",
    "# Réaffectation des DataFrames modifiés aux variables d'origine\n",
    "metaphlan_species, sylph_species, meteor, bracken = dataframes\n",
    "\n",
    "# Vérification de l'ordre des colonnes\n",
    "for df in [metaphlan_species, sylph_species, meteor, bracken]:\n",
    "    print(df.columns)"
   ]
  },
  {
   "cell_type": "code",
   "execution_count": 94,
   "metadata": {},
   "outputs": [
    {
     "name": "stdout",
     "output_type": "stream",
     "text": [
      "              @@TAXID     RANK             TAXPATH               TAXPATHSN  \\\n",
      "0  RS_GCF_015547315.1  species  RS_GCF_015547315.1    Phocaeicola vulgatus   \n",
      "1  RS_GCF_003469095.1  species  RS_GCF_003469095.1   Agathobacter rectalis   \n",
      "2  RS_GCF_020687045.1  species  RS_GCF_020687045.1  Vescimonas cirricatena   \n",
      "3  RS_GCF_009025075.1  species  RS_GCF_009025075.1   Bacteroides stercoris   \n",
      "4  RS_GCF_934839055.1  species  RS_GCF_934839055.1    Alistipes putredinis   \n",
      "\n",
      "   PERCENTAGE  \n",
      "0    19.68851  \n",
      "1    16.27582  \n",
      "2    10.45622  \n",
      "3     9.35497  \n",
      "4     7.75750  \n",
      "              @@TAXID     RANK             TAXPATH                TAXPATHSN  \\\n",
      "0  RS_GCF_015547315.1  species  RS_GCF_015547315.1     Phocaeicola vulgatus   \n",
      "1  RS_GCF_003475165.1  species  RS_GCF_003475165.1  Bacteroides stercoris_A   \n",
      "2  RS_GCF_003469095.1  species  RS_GCF_003469095.1    Agathobacter rectalis   \n",
      "3  RS_GCF_020687045.1  species  RS_GCF_020687045.1   Vescimonas cirricatena   \n",
      "4  RS_GCF_009025075.1  species  RS_GCF_009025075.1    Bacteroides stercoris   \n",
      "\n",
      "   PERCENTAGE  \n",
      "0     11.4494  \n",
      "1      8.9712  \n",
      "2      8.3775  \n",
      "3      8.3293  \n",
      "4      8.1772  \n",
      "              @@TAXID     RANK             TAXPATH  \\\n",
      "0  RS_GCF_015547705.1  species  RS_GCF_015547705.1   \n",
      "1  RS_GCF_020554465.1  species  RS_GCF_020554465.1   \n",
      "2  RS_GCF_023656845.1  species  RS_GCF_023656845.1   \n",
      "3  RS_GCF_003475515.1  species  RS_GCF_003475515.1   \n",
      "4  RS_GCF_009696275.1  species  RS_GCF_009696275.1   \n",
      "\n",
      "                    TAXPATHSN  PERCENTAGE  \n",
      "0          Bacteroides ovatus    2.292396  \n",
      "1       Enterocloster bolteae    1.195844  \n",
      "2  Parabacteroides distasonis    1.682270  \n",
      "3      Roseburia intestinalis    3.728478  \n",
      "4        Eisenbergiella porci    1.569403  \n",
      "              @@TAXID     RANK             TAXPATH                  TAXPATHSN  \\\n",
      "0  RS_GCF_009025075.1  species  RS_GCF_009025075.1      Bacteroides stercoris   \n",
      "1  RS_GCF_003602945.1  species  RS_GCF_003602945.1      Bacteroides uniformis   \n",
      "2  RS_GCF_020257245.1  species  RS_GCF_020257245.1  Bacteroides xylanisolvens   \n",
      "3  RS_GCF_008571515.1  species  RS_GCF_008571515.1     Bacteroides finegoldii   \n",
      "4  RS_GCF_015547705.1  species  RS_GCF_015547705.1         Bacteroides ovatus   \n",
      "\n",
      "   PERCENTAGE  \n",
      "0       7.276  \n",
      "1       5.809  \n",
      "2       2.812  \n",
      "3       1.931  \n",
      "4       1.542  \n"
     ]
    }
   ],
   "source": [
    "for df in [metaphlan_species, sylph_species, meteor, bracken]:\n",
    "    print(df.head())"
   ]
  },
  {
   "cell_type": "code",
   "execution_count": null,
   "metadata": {},
   "outputs": [],
   "source": [
    "header = \"\"\"@SampleID:ERS12377136\n",
    "@Version:0.9.1\n",
    "@Ranks:species\n",
    "@TaxonomyID:gtdb-R220\n",
    "@@TAXID\\tRANK\\tTAXPATH\\tTAXPATHSN\\tPERCENTAGE\"\"\"\n",
    "\n",
    "def save_to_tsv(df, filename):\n",
    "    with open(filename, 'w') as f:\n",
    "        f.write(header + '\\n')\n",
    "        df.to_csv(f, sep='\\t', index=False, header=False)\n",
    "\n",
    "save_to_tsv(metaphlan_species, '/shared/projects/mudis4ls_is4_benchmark/test_results/opal/metaphlan_species.tsv')\n",
    "save_to_tsv(sylph_species, '/shared/projects/mudis4ls_is4_benchmark/test_results/opal/sylph_species.tsv')\n",
    "save_to_tsv(meteor, '/shared/projects/mudis4ls_is4_benchmark/test_results/opal/meteor.tsv')\n",
    "save_to_tsv(bracken, '/shared/projects/mudis4ls_is4_benchmark/test_results/opal/bracken.tsv') "
   ]
  },
  {
   "cell_type": "code",
   "execution_count": null,
   "metadata": {},
   "outputs": [],
   "source": []
  }
 ],
 "metadata": {
  "kernelspec": {
   "display_name": "Python 3 (ipykernel)",
   "language": "python",
   "name": "python3"
  },
  "language_info": {
   "codemirror_mode": {
    "name": "ipython",
    "version": 3
   },
   "file_extension": ".py",
   "mimetype": "text/x-python",
   "name": "python",
   "nbconvert_exporter": "python",
   "pygments_lexer": "ipython3",
   "version": "3.13.1"
  }
 },
 "nbformat": 4,
 "nbformat_minor": 2
}
